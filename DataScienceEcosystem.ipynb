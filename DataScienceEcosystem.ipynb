{
 "cells": [
  {
   "cell_type": "markdown",
   "id": "9222f33c",
   "metadata": {},
   "source": [
    "# Data Science Tools and Ecosystem"
   ]
  },
  {
   "cell_type": "markdown",
   "id": "677253a6",
   "metadata": {},
   "source": [
    "Introduction: In this notebook, Data Science Tools and Ecosystem are summarized."
   ]
  },
  {
   "cell_type": "markdown",
   "id": "251776f3",
   "metadata": {},
   "source": [
    "**Objectives:**\n",
    "* List popular languages for Data Science\n",
    "* List commonly used libraries by Data Scientists\n",
    "* Make a single column table of Data Science Tools\n",
    "* Run some examples of evaluating arithmetic expressions in Python"
   ]
  },
  {
   "cell_type": "markdown",
   "id": "4f396025",
   "metadata": {},
   "source": [
    "Some of the popular languages that Data Scientists use are:\n",
    "1. Python Language\n",
    "2. R Language\n",
    "3. Scala\n",
    "4. SQL\n",
    "5. Julia\n",
    "6. C++\n",
    "7. Java"
   ]
  },
  {
   "cell_type": "markdown",
   "id": "b3948ab1",
   "metadata": {},
   "source": [
    "Some of the commonly used libraries used by Data Scientists include:\n",
    "   1. Pandas \n",
    "   2. Matplotlib\n",
    "   3. Seaborn\n",
    "   4. Vegas\n",
    "   5. NumPy\n",
    "   6. Scikit-Learn\n",
    "   7. PyTorch"
   ]
  },
  {
   "cell_type": "markdown",
   "id": "214c96c2",
   "metadata": {},
   "source": [
    "|Data Science Tools|\n",
    "|----|\n",
    "|MySQL|\n",
    "|MongoDB|\n",
    "|Apache Cassandra|\n",
    "\n"
   ]
  },
  {
   "cell_type": "markdown",
   "id": "68316ef6",
   "metadata": {},
   "source": [
    "### Below are a few examples of evaluating arithmetic expressions in Python"
   ]
  },
  {
   "cell_type": "code",
   "execution_count": 6,
   "id": "6f3b24de",
   "metadata": {},
   "outputs": [
    {
     "data": {
      "text/plain": [
       "17"
      ]
     },
     "execution_count": 6,
     "metadata": {},
     "output_type": "execute_result"
    }
   ],
   "source": [
    "# This a simple arithmetic expression to mutiply then add integers. E.g:\n",
    "(3*4)+5"
   ]
  },
  {
   "cell_type": "code",
   "execution_count": 9,
   "id": "9fc5de26",
   "metadata": {},
   "outputs": [
    {
     "name": "stdout",
     "output_type": "stream",
     "text": [
      "3.3333333333333335\n"
     ]
    }
   ],
   "source": [
    "# This will convert 200 minutes to hours by diving by 60\n",
    "one_hour = 60\n",
    "x = 200\n",
    "x_in_hours = x/one_hour\n",
    "print(x_hours)"
   ]
  },
  {
   "cell_type": "markdown",
   "id": "3eb227c4",
   "metadata": {},
   "source": [
    "## Author\n",
    "Daniel McDinna"
   ]
  },
  {
   "cell_type": "code",
   "execution_count": null,
   "id": "97961fa7",
   "metadata": {},
   "outputs": [],
   "source": []
  }
 ],
 "metadata": {
  "kernelspec": {
   "display_name": "Python 3 (ipykernel)",
   "language": "python",
   "name": "python3"
  },
  "language_info": {
   "codemirror_mode": {
    "name": "ipython",
    "version": 3
   },
   "file_extension": ".py",
   "mimetype": "text/x-python",
   "name": "python",
   "nbconvert_exporter": "python",
   "pygments_lexer": "ipython3",
   "version": "3.11.5"
  }
 },
 "nbformat": 4,
 "nbformat_minor": 5
}
